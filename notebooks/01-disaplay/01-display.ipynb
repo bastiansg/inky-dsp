{
 "cells": [
  {
   "cell_type": "code",
   "execution_count": null,
   "metadata": {},
   "outputs": [],
   "source": [
    "from PIL import Image\n",
    "from inky import InkyWHAT\n",
    "\n",
    "from inkywhat_dsp.utils.image import (\n",
    "    resize_image,\n",
    "    get_inky_image,\n",
    "    get_rbw_image,\n",
    ")"
   ]
  },
  {
   "cell_type": "code",
   "execution_count": null,
   "metadata": {},
   "outputs": [],
   "source": [
    "dsp = InkyWHAT(colour=\"red\")"
   ]
  },
  {
   "cell_type": "code",
   "execution_count": null,
   "metadata": {},
   "outputs": [],
   "source": [
    "# image = Image.open(\"/resources/nietszche.jpg\")\n",
    "# image = Image.open(\"/resources/gandalf.jpg\")\n",
    "# image = Image.open(\"/resources/pattern-1.jpg\")\n",
    "# image = Image.open(\"/resources/pattern-2.jpg\")\n",
    "# image = Image.open(\"/resources/images/photo_2023-11-09_11-40-39.jpg\")\n",
    "image = Image.open(\"/resources/images/vampires/vampire-004.png\")\n",
    "\n",
    "image"
   ]
  },
  {
   "cell_type": "code",
   "execution_count": null,
   "metadata": {},
   "outputs": [],
   "source": [
    "rbw_image = get_rbw_image(\n",
    "    image,\n",
    "    r_thresh=100,\n",
    "    b_thresh=120,\n",
    ")\n",
    "\n",
    "rbw_image"
   ]
  },
  {
   "cell_type": "code",
   "execution_count": null,
   "metadata": {},
   "outputs": [],
   "source": [
    "orientation, resized_image = resize_image(rbw_image, size=300, max_size=400)\n",
    "print(f\"orientation => {orientation}\")\n",
    "resized_image"
   ]
  },
  {
   "cell_type": "code",
   "execution_count": null,
   "metadata": {},
   "outputs": [],
   "source": [
    "inky_image = get_inky_image(input_image=resized_image)\n",
    "inky_image"
   ]
  },
  {
   "cell_type": "code",
   "execution_count": null,
   "metadata": {},
   "outputs": [],
   "source": [
    "dsp.set_image(inky_image)\n",
    "dsp.show()"
   ]
  },
  {
   "cell_type": "code",
   "execution_count": null,
   "metadata": {},
   "outputs": [],
   "source": []
  }
 ],
 "metadata": {
  "kernelspec": {
   "display_name": "Python 3 (ipykernel)",
   "language": "python",
   "name": "python3"
  },
  "language_info": {
   "codemirror_mode": {
    "name": "ipython",
    "version": 3
   },
   "file_extension": ".py",
   "mimetype": "text/x-python",
   "name": "python",
   "nbconvert_exporter": "python",
   "pygments_lexer": "ipython3",
   "version": "3.12.3"
  }
 },
 "nbformat": 4,
 "nbformat_minor": 2
}
