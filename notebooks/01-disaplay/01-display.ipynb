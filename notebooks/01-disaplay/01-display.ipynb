{
 "cells": [
  {
   "cell_type": "code",
   "execution_count": null,
   "metadata": {},
   "outputs": [],
   "source": [
    "from PIL import Image\n",
    "from inky import InkyWHAT\n",
    "\n",
    "from inkywhat_dsp.utils.image import resize_image, get_inky_image"
   ]
  },
  {
   "cell_type": "code",
   "execution_count": null,
   "metadata": {},
   "outputs": [],
   "source": [
    "dsp = InkyWHAT(colour=\"red\")"
   ]
  },
  {
   "cell_type": "code",
   "execution_count": null,
   "metadata": {},
   "outputs": [],
   "source": [
    "# image = Image.open(\"/resources/nietszche.jpg\")\n",
    "# image = Image.open(\"/resources/el-padrino.jpeg\")\n",
    "image = Image.open(\"/resources/gandalf.jpg\")\n",
    "# image = Image.open(\"/resources/InkywHAT-400x300.png\")\n",
    "# image = Image.open(\"/resources/pattern-1.jpg\")\n",
    "# image = Image.open(\"/resources/pattern-2.jpg\")\n",
    "\n",
    "image"
   ]
  },
  {
   "cell_type": "code",
   "execution_count": null,
   "metadata": {},
   "outputs": [],
   "source": [
    "resized_image = resize_image(image, size=300, max_size=400)\n",
    "inky_image = get_inky_image(input_image=resized_image)\n",
    "\n",
    "dsp.set_image(inky_image)\n",
    "dsp.show()"
   ]
  },
  {
   "cell_type": "code",
   "execution_count": null,
   "metadata": {},
   "outputs": [],
   "source": []
  }
 ],
 "metadata": {
  "kernelspec": {
   "display_name": "Python 3 (ipykernel)",
   "language": "python",
   "name": "python3"
  },
  "language_info": {
   "codemirror_mode": {
    "name": "ipython",
    "version": 3
   },
   "file_extension": ".py",
   "mimetype": "text/x-python",
   "name": "python",
   "nbconvert_exporter": "python",
   "pygments_lexer": "ipython3",
   "version": "3.11.2"
  }
 },
 "nbformat": 4,
 "nbformat_minor": 2
}
