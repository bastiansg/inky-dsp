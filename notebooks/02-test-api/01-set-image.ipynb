{
 "cells": [
  {
   "cell_type": "code",
   "execution_count": null,
   "metadata": {},
   "outputs": [],
   "source": [
    "import requests\n",
    "\n",
    "from PIL import Image\n",
    "from rich.pretty import pprint\n",
    "\n",
    "from inkywhat_dsp.utils.image import (\n",
    "    encode_image,\n",
    "    resize_image,\n",
    "    get_inky_image,\n",
    "    get_rbw_image,\n",
    ")"
   ]
  },
  {
   "cell_type": "code",
   "execution_count": null,
   "metadata": {},
   "outputs": [],
   "source": [
    "image = Image.open(\"/resources/images/vampires/vampire-005.png\")\n",
    "rbw_image = get_rbw_image(\n",
    "    image,\n",
    "    r_thresh=120,\n",
    "    b_thresh=120,\n",
    ")\n",
    "\n",
    "orientation, resized_image = resize_image(rbw_image, size=300, max_size=400)\n",
    "print(f\"orientation => {orientation}\")\n",
    "\n",
    "inky_image = get_inky_image(input_image=resized_image)\n",
    "inky_image"
   ]
  },
  {
   "cell_type": "code",
   "execution_count": null,
   "metadata": {},
   "outputs": [],
   "source": [
    "host = \"localhost\"\n",
    "respose = requests.post(\n",
    "    url=f\"http://{host}:8000/set_image\",\n",
    "    json={\n",
    "        \"inky_image\": encode_image(inky_image),\n",
    "        \"orientation\": orientation,\n",
    "    },\n",
    ")\n",
    "\n",
    "status_code = respose.status_code\n",
    "status_code"
   ]
  },
  {
   "cell_type": "code",
   "execution_count": null,
   "metadata": {},
   "outputs": [],
   "source": [
    "pprint(respose.json())"
   ]
  }
 ],
 "metadata": {
  "kernelspec": {
   "display_name": "Python 3",
   "language": "python",
   "name": "python3"
  },
  "language_info": {
   "codemirror_mode": {
    "name": "ipython",
    "version": 3
   },
   "file_extension": ".py",
   "mimetype": "text/x-python",
   "name": "python",
   "nbconvert_exporter": "python",
   "pygments_lexer": "ipython3",
   "version": "3.12.3"
  }
 },
 "nbformat": 4,
 "nbformat_minor": 2
}
